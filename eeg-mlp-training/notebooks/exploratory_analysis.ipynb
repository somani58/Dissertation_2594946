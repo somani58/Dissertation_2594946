{
 "cells": [
  {
   "cell_type": "markdown",
   "id": "de7f5186",
   "metadata": {},
   "source": [
    "# EEG MLP Training Project Setup\n",
    "\n",
    "This notebook creates the complete directory structure and template files for an EEG MLP training project, including sample data and verification steps."
   ]
  },
  {
   "cell_type": "code",
   "execution_count": null,
   "id": "8226bbc2",
   "metadata": {},
   "outputs": [],
   "source": [
    "# Import Required Libraries\n",
    "import os\n",
    "from pathlib import Path\n",
    "import pandas as pd\n"
   ]
  },
  {
   "cell_type": "markdown",
   "id": "eb2418f0",
   "metadata": {},
   "source": [
    "## Define Project Structure\n",
    "\n",
    "List all required directories and files for the EEG MLP training project."
   ]
  },
  {
   "cell_type": "code",
   "execution_count": null,
   "id": "638ff863",
   "metadata": {},
   "outputs": [],
   "source": [
    "# Define the project structure\n",
    "project_structure = {\n",
    "    'data': {\n",
    "        'raw': ['eeg_data.csv'],\n",
    "        'processed': []\n",
    "    },\n",
    "    'src': ['__init__.py', 'data_preprocessing.py', 'model.py', 'train.py', 'evaluate.py'],\n",
    "    'notebooks': ['exploratory_analysis.ipynb'],\n",
    "    'models': {\n",
    "        'saved_models': []\n",
    "    },\n",
    "    'results': {\n",
    "        'plots': [],\n",
    "        'reports': []\n",
    "    },\n",
    "    'requirements.txt': None,\n",
    "    'README.md': None\n",
    "}\n"
   ]
  },
  {
   "cell_type": "markdown",
   "id": "c5cf0595",
   "metadata": {},
   "source": [
    "## Create Directory Structure\n",
    "\n",
    "Create all required directories and subdirectories for the project."
   ]
  },
  {
   "cell_type": "code",
   "execution_count": null,
   "id": "ca89e784",
   "metadata": {},
   "outputs": [],
   "source": [
    "# Create directories and subdirectories\n",
    "def create_dirs(base_path, structure):\n",
    "    for key, value in structure.items():\n",
    "        if isinstance(value, dict):\n",
    "            dir_path = base_path / key\n",
    "            dir_path.mkdir(exist_ok=True)\n",
    "            create_dirs(dir_path, value)\n",
    "        elif isinstance(value, list):\n",
    "            dir_path = base_path / key\n",
    "            dir_path.mkdir(exist_ok=True)\n",
    "        elif value is None:\n",
    "            # It's a file, not a directory\n",
    "            pass\n",
    "\n",
    "base_path = Path('.')\n",
    "create_dirs(base_path, project_structure)\n"
   ]
  },
  {
   "cell_type": "markdown",
   "id": "3807e97c",
   "metadata": {},
   "source": [
    "## Create Python Files with Basic Content\n",
    "\n",
    "Generate template Python files for the project modules."
   ]
  },
  {
   "cell_type": "code",
   "execution_count": null,
   "id": "6bb4bb0d",
   "metadata": {},
   "outputs": [],
   "source": [
    "# Create Python files with basic content\n",
    "python_files = {\n",
    "    'src/__init__.py': '',\n",
    "    'src/data_preprocessing.py': '# Data preprocessing functions for EEG data\\n',\n",
    "    'src/model.py': '# Model definition for EEG MLP\\n',\n",
    "    'src/train.py': '# Training script for EEG MLP\\n',\n",
    "    'src/evaluate.py': '# Evaluation script for EEG MLP\\n'\n",
    "}\n",
    "for file_path, content in python_files.items():\n",
    "    with open(file_path, 'w') as f:\n",
    "        f.write(content)\n"
   ]
  },
  {
   "cell_type": "markdown",
   "id": "bd7f011a",
   "metadata": {},
   "source": [
    "## Create Requirements File\n",
    "\n",
    "Generate the requirements.txt file with necessary dependencies."
   ]
  },
  {
   "cell_type": "code",
   "execution_count": null,
   "id": "20462154",
   "metadata": {},
   "outputs": [],
   "source": [
    "# Create requirements.txt file\n",
    "requirements = [\n",
    "    'numpy',\n",
    "    'pandas',\n",
    "    'scikit-learn',\n",
    "    'matplotlib',\n",
    "    'seaborn'\n",
    "]\n",
    "with open('requirements.txt', 'w') as f:\n",
    "    f.write('\\n'.join(requirements))\n"
   ]
  },
  {
   "cell_type": "markdown",
   "id": "c2bd83c1",
   "metadata": {},
   "source": [
    "## Create README File\n",
    "\n",
    "Generate a README.md file with project description and setup instructions."
   ]
  },
  {
   "cell_type": "code",
   "execution_count": null,
   "id": "8d8f91c6",
   "metadata": {},
   "outputs": [],
   "source": [
    "# Create README.md file\n",
    "readme_content = \"\"\"# EEG MLP Training\\n\\nThis project contains code and resources for training a Multi-Layer Perceptron (MLP) on EEG data.\\n\\n## Setup\\n1. Install dependencies from requirements.txt\\n2. Place your EEG data in the data/raw/ directory\\n3. Run the scripts in src/ for preprocessing, training, and evaluation\\n\\n## Usage\\n- Use notebooks/exploratory_analysis.ipynb for initial data exploration\\n- Save trained models in models/saved_models/\\n- Store results in results/plots/ and results/reports/\\n\"\"\"\n",
    "with open('README.md', 'w') as f:\n",
    "    f.write(readme_content)\n"
   ]
  },
  {
   "cell_type": "markdown",
   "id": "e41ca872",
   "metadata": {},
   "source": [
    "## Create Sample Data File\n",
    "\n",
    "Generate a sample eeg_data.csv file with mock EEG data for development."
   ]
  },
  {
   "cell_type": "code",
   "execution_count": null,
   "id": "085334d4",
   "metadata": {},
   "outputs": [],
   "source": [
    "# Create sample eeg_data.csv file\n",
    "import numpy as np\n",
    "sample_data = pd.DataFrame({\n",
    "    'timestamp': np.arange(0, 10, 1),\n",
    "    'channel_1': np.random.randn(10),\n",
    "    'channel_2': np.random.randn(10),\n",
    "    'channel_3': np.random.randn(10),\n",
    "    'label': np.random.choice(['A', 'B'], size=10)\n",
    "})\n",
    "sample_data.to_csv('data/raw/eeg_data.csv', index=False)\n"
   ]
  },
  {
   "cell_type": "markdown",
   "id": "5030c218",
   "metadata": {},
   "source": [
    "## Verify Directory Structure\n",
    "\n",
    "Display the created directory structure to confirm successful setup."
   ]
  },
  {
   "cell_type": "code",
   "execution_count": null,
   "id": "b05239ee",
   "metadata": {},
   "outputs": [],
   "source": [
    "# Display the created directory structure\n",
    "def print_tree(startpath):\n",
    "    for root, dirs, files in os.walk(startpath):\n",
    "        level = root.replace(startpath, '').count(os.sep)\n",
    "        indent = ' ' * 4 * level\n",
    "        print(f'{indent}{os.path.basename(root)}/')\n",
    "        subindent = ' ' * 4 * (level + 1)\n",
    "        for f in files:\n",
    "            print(f'{subindent}{f}')\n",
    "print_tree('.')\n"
   ]
  }
 ],
 "metadata": {
  "language_info": {
   "name": "python"
  }
 },
 "nbformat": 4,
 "nbformat_minor": 5
}
